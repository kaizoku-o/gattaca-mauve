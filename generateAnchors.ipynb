{
 "cells": [
  {
   "cell_type": "code",
   "execution_count": 51,
   "metadata": {},
   "outputs": [],
   "source": [
    "sequences = [\n",
    "    \"atcgctcacgacaagcatcagcatcagcatcatacgtgactcaagaaGAATAtcatgttaAATGGTTttactaccccctgtggggatatcgatctactactacgact\",\n",
    "    \"atctagccgatgattctaccacgatctcatactacttagcattagcatcatacgcgatcgggggatatatctctactacgtctcagacacgactccgact\",\n",
    "    \"atcggtcactacttgcatcagcaTTGCTCAATCTGtcagcatgcatacCGTCCACCATAAGAAAAGATGGtcgaggatcatcttattactacccccgcgggggatatatatcttctacgactcagctaAACATTCAAcgattacgact\",\n",
    "    \"atcgttctacgagctcatactactagcatcagcatcagcatCCCATTAgatacgcgatcagcacatcttattactacccccgccggggatatatacagcagcagcatcgactctactacgactt\",\n",
    "    \"atcggtcactactagcatcagatcaccatactcgagcatcatcttattactaccccgcgcatactacgactaccgcggtggatatatatctactaccactcagctacgactacgact\"\n",
    "];"
   ]
  },
  {
   "cell_type": "code",
   "execution_count": null,
   "metadata": {},
   "outputs": [],
   "source": []
  },
  {
   "cell_type": "code",
   "execution_count": 52,
   "metadata": {},
   "outputs": [],
   "source": [
    "# Get seed mask based on weight and palindromic seed family\n",
    "function get_seed_mask(weight::Int64)\n",
    "    no_seeds = zeros(UInt32, 0)\n",
    "    seed_mask_3 =  [\n",
    "        0x0,0xb,   \n",
    "        0x0,0x0,  0x0,0x0,  0x0,0x0,  0x0,0x0,  0x0,0x0\n",
    "    ]\n",
    "    seed_mask_4 =  [\n",
    "        0x0,0x3b,  \n",
    "        0x0,0x0,  0x0,0x0,  0x0,0x0,  0x0,0x0,  0x0,0x0\n",
    "    ]\n",
    "    seed_mask_5 =  [\n",
    "        0x0,0x6b,  \n",
    "        0x0,0x139,    \n",
    "        0x0,0x193,\n",
    "        0x0,0x6b, \n",
    "        0x0,0x0,  0x0,0x0\n",
    "    ]\n",
    "    seed_mask_6 =  [\n",
    "        0x0,0x58D, #0b10110001101,\n",
    "        0x0,0x653, #0b11001010011,\n",
    "        0x0,0x1AB, #0b110101011,\n",
    "        0x0,0xdb,  #0b11011011,\n",
    "        0x0,0x0,  0x0,0x0\n",
    "    ]\n",
    "    seed_mask_7 =  [\n",
    "        0x0,0x1953, #0b1100101010011\n",
    "        0x0,0x588d, #0b101100010001101\n",
    "        0x0,0x688b, #0b110100010001011\n",
    "        0x0,0x17d,  #0b101111101,\n",
    "        0x0,0x164d, #0b1011001001101,\n",
    "        0x0,0x0,  0x0,0x0\n",
    "    ]   \n",
    "    seed_mask_8 =  [\n",
    "        0x0,0x3927, #0b11100100100111,\n",
    "        0x0,0x1CA7, #0b1110010100111,\n",
    "        0x0,0x6553, #0b110010101010011,\n",
    "        0x0,0xb6d,  #0b101101101101,\n",
    "        0x0,0x0,  0x0,0x0\n",
    "    ]\n",
    "    seed_mask_9 =  [\n",
    "        0x0,0x7497,  #0b111010010010111,\n",
    "        0x0,0x1c927, #0b11100100100100111,\n",
    "        0x0,0x72a7,  #0b111001010100111,\n",
    "        0x0,0x6fb,   #0b11011111011,\n",
    "        0x0,0x16ed,  #0b1011011101101,\n",
    "        0x0,0x0\n",
    "    ]\n",
    "    seed_mask_10 = [\n",
    "        0x0,0x1d297, #0b11101001010010111,\n",
    "        0x0,0x3A497, #0b111010010010010111,\n",
    "        0x0,0xE997,  #0b1110100110010111,\n",
    "        0x0,0x6D5B,  #0b110110101011011,\n",
    "        0x0,0x0,  0x0,0x0\n",
    "    ]\n",
    "    seed_mask_11 = [\n",
    "        0x0,0x7954f,  #0b11110010101001111,\n",
    "        0x0,0x75257,  #0b1110101001001010111,\n",
    "        0x0,0x1c9527, #0b111001001010100100111,\n",
    "        0x0,0x5bed,   #0b101101111101101,\n",
    "        0x0,0x5b26d,  #0b1011011001001101101,\n",
    "        0x0,0x0\n",
    "    ]\n",
    "    seed_mask_12 = [\n",
    "        0x0,0x7954f,  #0b1111001010101001111,\n",
    "        0x0,0x3D32F,  #0b111101001100101111,\n",
    "        0x0,0x768B7,  #0b1110110100010110111,\n",
    "        0x0,0x5B56D,  #0b1011011010101101101,\n",
    "        0x0,0x0,  0x0,0x0\n",
    "    ]\n",
    "    seed_mask_13 = [\n",
    "        0x0,0x792a4f, #0b11110010010101001001111,\n",
    "        0x0,0x1d64d7, #0b111010110010011010111,\n",
    "        0x0,0x1d3597, #0b111010011010110010111,\n",
    "        0x0,0x1b7db,  #0b11011011111011011,\n",
    "        0x0,0x75ad7,  #0b1110101101011010111,\n",
    "        0x0,0x0\n",
    "    ]\n",
    "    seed_mask_14 = [\n",
    "        0x0,0x1e6acf, #0b111100110101011001111,\n",
    "        0x0,0xF59AF,  #0b11110101100110101111,\n",
    "        0x0,0x3D4CAF, #0b1111010100110010101111,\n",
    "        0x0,0x35AD6B, #0b1101011010110101101011,\n",
    "        0x0,0x0,  0x0,0x0        \n",
    "    ]\n",
    "    seed_mask_15 = [\n",
    "        0x0,0x7ac9af, #0b11110101100100110101111\n",
    "        0x0,0x7b2a6f, #0b11110110010101001101111\n",
    "        0x0,0x79aacf, #0b11110011010101011001111\n",
    "        0x0,0x16df6d, #0b101101101111101101101\n",
    "        0x0,0x6b5d6b, #0b11010110101110101101011\n",
    "        0x0,0x0\n",
    "    ]\n",
    "    seed_mask_16 = [\n",
    "        0x0,0xf599af, #0b111101011001100110101111,\n",
    "        0x0,0xEE5A77, #0b111011100101101001110111,\n",
    "        0x0,0x7CD59F, #0b11111001101010110011111,\n",
    "        0x0,0xEB5AD7, #0b111010110101101011010111,\n",
    "        0x0,0x0,  0x0,0x0\n",
    "    ]\n",
    "    seed_mask_17 = [\n",
    "        0x0,0x6dbedb, #0b11011011011111011011011,\n",
    "        0x0,0x0, 0x0,0x0,  0x0,0x0,  0x0,0x0,  0x0,0x0       \n",
    "    ]\n",
    "    seed_mask_18 = [\n",
    "        0x0,0x3E6B59F, #0b11111001101011010110011111,\n",
    "        0x0,0x3EB335F, #0b11111010110011001101011111,\n",
    "        0x0,0x7B3566F, #0b111101100110101011001101111,\n",
    "        0x0,0x0,  0x0,0x0,  0x0,0x0\n",
    "    ]\n",
    "    seed_mask_19 = [\n",
    "        0x0,0x7b974ef, #0b111101110010111010011101111\n",
    "        0x0,0x7d6735f, #0b111110101100111001101011111\n",
    "        0x0,0x1edd74f, #0b1111011011101011101101111\n",
    "        0x0,0x0,  0x0,0x0,  0x0,0x0\n",
    "    ]\n",
    "    seed_mask_20 = [\n",
    "        0x0,0x1F59B35F,#0b11111010110011011001101011111,\n",
    "        0x0,0x3EDCEDF, #0b11111011011100111011011111,\n",
    "        0x0,0xFAE675F, #0b1111101011100110011101011111,\n",
    "        0x0,0x0,  0x0,0x0,  0x0,0x0\n",
    "    ]\n",
    "    seed_mask_21 = [\n",
    "        0x0,0x7ddaddf, #0b111110111011010110111011111,\n",
    "        0x0,0xaeb3f,   #0b11111100110101110101100111111,\n",
    "        0x0,0x7eb76bf, #0b111111010110111011010111111,\n",
    "        0x0,0x0,  0x0,0x0,  0x0,0x0\n",
    "    ]\n",
    "    seed_mask_22 = [0x0,0x003fffff,  0x0,0x0,  0x0,0x0,  0x0,0x0,  0x0,0x0,  0x0,0x0]\n",
    "    seed_mask_23 = [0x0,0x007fffff,  0x0,0x0,  0x0,0x0,  0x0,0x0,  0x0,0x0,  0x0,0x0]\n",
    "    seed_mask_24 = [0x0,0x00ffffff,  0x0,0x0,  0x0,0x0,  0x0,0x0,  0x0,0x0,  0x0,0x0]\n",
    "    seed_mask_25 = [0x0,0x01ffffff,  0x0,0x0,  0x0,0x0,  0x0,0x0,  0x0,0x0,  0x0,0x0]\n",
    "    seed_mask_26 = [0x0,0x03ffffff,  0x0,0x0,  0x0,0x0,  0x0,0x0,  0x0,0x0,  0x0,0x0]\n",
    "    seed_mask_27 = [0x0,0x07ffffff,  0x0,0x0,  0x0,0x0,  0x0,0x0,  0x0,0x0,  0x0,0x0]\n",
    "    seed_mask_28 = [0x0,0x0fffffff,  0x0,0x0,  0x0,0x0,  0x0,0x0,  0x0,0x0,  0x0,0x0]\n",
    "    seed_mask_29 = [0x0,0x1fffffff,  0x0,0x0,  0x0,0x0,  0x0,0x0,  0x0,0x0,  0x0,0x0]\n",
    "    seed_mask_30 = [0x0,0x3fffffff,  0x0,0x0,  0x0,0x0,  0x0,0x0,  0x0,0x0,  0x0,0x0]\n",
    "    seed_mask_31 = [0x0,0x7fffffff,  0x0,0x0,  0x0,0x0,  0x0,0x0,  0x0,0x0,  0x0,0x0]\n",
    "    \n",
    "    seed_mask = [\n",
    "        no_seeds,\n",
    "        no_seeds,\n",
    "        no_seeds,\n",
    "        seed_mask_3,\n",
    "        seed_mask_4,\n",
    "        seed_mask_5,\n",
    "        seed_mask_6,\n",
    "        seed_mask_7,\n",
    "        seed_mask_8,\n",
    "        seed_mask_9,\n",
    "        seed_mask_10,\n",
    "        seed_mask_11,\n",
    "        seed_mask_12,\n",
    "        seed_mask_13,\n",
    "        seed_mask_14,\n",
    "        seed_mask_15,\n",
    "        seed_mask_16,\n",
    "        seed_mask_17,\n",
    "        seed_mask_18,\n",
    "        seed_mask_19,\n",
    "        seed_mask_20,\n",
    "        seed_mask_21,\n",
    "        seed_mask_22,\n",
    "        seed_mask_23,\n",
    "        seed_mask_24,\n",
    "        seed_mask_25,\n",
    "        seed_mask_26,\n",
    "        seed_mask_27,\n",
    "        seed_mask_28,\n",
    "        seed_mask_29,\n",
    "        seed_mask_30,\n",
    "        seed_mask_31,\n",
    "    ]\n",
    "    return seed_mask[weight]\n",
    "end;"
   ]
  },
  {
   "cell_type": "code",
   "execution_count": 53,
   "metadata": {},
   "outputs": [],
   "source": [
    "# All Ones\n",
    "function get_solid_seed(weight::Int64)\n",
    "    seed = 1\n",
    "    seed <<= weight\n",
    "    return seed\n",
    "end;"
   ]
  },
  {
   "cell_type": "code",
   "execution_count": 54,
   "metadata": {},
   "outputs": [
    {
     "data": {
      "text/plain": [
       "get_seed (generic function with 1 method)"
      ]
     },
     "execution_count": 54,
     "metadata": {},
     "output_type": "execute_result"
    }
   ],
   "source": [
    "function get_seed(weight::Int64, seed_rank::Int64)\n",
    "    mask = get_seed_mask(weight + 1)\n",
    "    low = mask[seed_rank*2 + 2]\n",
    "    if (low == 0)\n",
    "        return get_solid_seed(weight)\n",
    "    end\n",
    "    high = mask[weight*2 + 1]\n",
    "    seed = 0\n",
    "    seed |= high\n",
    "    seed <<=32\n",
    "    seed |= low\n",
    "    return seed\n",
    "end"
   ]
  },
  {
   "cell_type": "code",
   "execution_count": 55,
   "metadata": {},
   "outputs": [
    {
     "data": {
      "text/plain": [
       "get_default_mer_size (generic function with 1 method)"
      ]
     },
     "execution_count": 55,
     "metadata": {},
     "output_type": "execute_result"
    }
   ],
   "source": [
    "# From the paper and code, mer_size is calculated by lg_2(totalLen/num_seq)/1.5\n",
    "# If mer_size is even, increment by 1\n",
    "# mer_size is bounded by [5, 31]\n",
    "\n",
    "function get_default_mer_size(total_len::Int64, num_seq::Int64)\n",
    "    mer_size = round(Int64, (log2(round(Int64, total_len/num_seq)))/1.5)\n",
    "    if iseven(mer_size)\n",
    "        mer_size += 1\n",
    "    end\n",
    "    if mer_size < 5\n",
    "        mer_size = 5\n",
    "    end\n",
    "    if mer_size > 31\n",
    "        mer_size = 31\n",
    "    end\n",
    "    return mer_size\n",
    "end"
   ]
  },
  {
   "cell_type": "code",
   "execution_count": 56,
   "metadata": {},
   "outputs": [],
   "source": [
    "function get_default_seed(mer_size, coding_seed)\n",
    "    totalLen = sum(length.(sequences))\n",
    "    numSeq = length(sequences)\n",
    "    if mer_size == 0\n",
    "        mer_size = get_default_mer_size(totalLen, numSeq)\n",
    "    end\n",
    "    default_seed = get_seed(mer_size, coding_seed)\n",
    "end;"
   ]
  },
  {
   "cell_type": "code",
   "execution_count": null,
   "metadata": {},
   "outputs": [],
   "source": []
  },
  {
   "cell_type": "code",
   "execution_count": 57,
   "metadata": {},
   "outputs": [
    {
     "data": {
      "text/plain": [
       "get_seed_length (generic function with 1 method)"
      ]
     },
     "execution_count": 57,
     "metadata": {},
     "output_type": "execute_result"
    }
   ],
   "source": [
    "\n",
    "function get_seed_length(seed::Int64)\n",
    "    leftIndex = 64 - leading_zeros(seed)\n",
    "    rightIndex = trailing_zeros(seed)\n",
    "    seedLength = leftIndex - rightIndex\n",
    "end"
   ]
  },
  {
   "cell_type": "code",
   "execution_count": 58,
   "metadata": {},
   "outputs": [
    {
     "data": {
      "text/plain": [
       "apply_seed_mask (generic function with 1 method)"
      ]
     },
     "execution_count": 58,
     "metadata": {},
     "output_type": "execute_result"
    }
   ],
   "source": [
    "function apply_seed_mask(str::String, default_seed::Int64)\n",
    "    bin_seed_mask = digits(default_seed, base=2)\n",
    "    mer = \"\"\n",
    "    for i in 1:get_seed_length(default_seed)\n",
    "        if bin_seed_mask[i] == 1\n",
    "            mer = mer*str[i]\n",
    "        end\n",
    "    end\n",
    "    return mer\n",
    "end"
   ]
  },
  {
   "cell_type": "code",
   "execution_count": null,
   "metadata": {},
   "outputs": [],
   "source": []
  },
  {
   "cell_type": "code",
   "execution_count": 59,
   "metadata": {},
   "outputs": [],
   "source": [
    "rev_map = Dict('A' => 'T', 'T' => 'A', 'C' => 'G', 'G' => 'C', 'a' => 't', 't' => 'a', 'c' => 'g', 'g' => 'c');"
   ]
  },
  {
   "cell_type": "code",
   "execution_count": 60,
   "metadata": {},
   "outputs": [
    {
     "data": {
      "text/plain": [
       "getFwdOrRevMer (generic function with 1 method)"
      ]
     },
     "execution_count": 60,
     "metadata": {},
     "output_type": "execute_result"
    }
   ],
   "source": [
    "#  Gets lexicographically smaller among the forward and reverse mers\n",
    "function getFwdOrRevMer(fwd_mer::String)\n",
    "    rev_mer = String(\"\")\n",
    "    for nucleotide in fwd_mer\n",
    "        rev_mer = rev_mer*rev_map[nucleotide]\n",
    "    end\n",
    "    if isless(fwd_mer, rev_mer)\n",
    "        return [fwd_mer, 0]\n",
    "    end\n",
    "    return [rev_mer, 1]\n",
    "end"
   ]
  },
  {
   "cell_type": "code",
   "execution_count": 61,
   "metadata": {},
   "outputs": [
    {
     "data": {
      "text/plain": [
       "get_sorted_mer_map (generic function with 1 method)"
      ]
     },
     "execution_count": 61,
     "metadata": {},
     "output_type": "execute_result"
    }
   ],
   "source": [
    "# Returns sorted and unique mer_list for a sequence\n",
    "function get_sorted_mer_map(mer_list)\n",
    "    # Sort the mer_list lexicographically\n",
    "    sort!(mer_list, by=x->x[1]);\n",
    "    mer_map = Dict{String, Array}()\n",
    "    for val in mer_list\n",
    "        lc_val = lowercase(val[1])  \n",
    "        if haskey(mer_map, lc_val)\n",
    "            push!(mer_map[lc_val], val[2:end])\n",
    "        else\n",
    "            push!(mer_map, lc_val=>[val[2:end]])\n",
    "        end            \n",
    "    end\n",
    "    # Remove repeats\n",
    "    for val in mer_map\n",
    "        if (length(mer_map[val[1]])) >= 2\n",
    "            delete!(mer_map, val[1])\n",
    "        end\n",
    "    end\n",
    "    return mer_map\n",
    "end"
   ]
  },
  {
   "cell_type": "code",
   "execution_count": 62,
   "metadata": {},
   "outputs": [
    {
     "data": {
      "text/plain": [
       "create_match_list (generic function with 1 method)"
      ]
     },
     "execution_count": 62,
     "metadata": {},
     "output_type": "execute_result"
    }
   ],
   "source": [
    "# Returns a hashmap from \"mer\" => list of [seq_index, mer_direction, mer_start, mer_end]].\n",
    "# eg. of an entry: \"atgtc\" => Array{Any,1}[[4, 0, 1, 7] \n",
    "# Where [4, 0, 1, 7] means it's the mer of the 4th sequence, \n",
    "# having direction 0 or forward strand, starts at positon 1 and ends at positon 7\n",
    "# Hashmap is used to keep track of number of matches.\n",
    "\n",
    "function create_match_list(mer_map_list)\n",
    "    match_list_map = Dict{String, Array}()\n",
    "    for seq_index in 1:length(mer_map_list)\n",
    "        mer_map = mer_map_list[seq_index]\n",
    "        for key_val in mer_map\n",
    "            key = key_val[1]\n",
    "            val = key_val[2][1]\n",
    "            if haskey(match_list_map, key)\n",
    "                push!(match_list_map[key], vcat(seq_index, val))\n",
    "            else\n",
    "                push!(match_list_map, key=>[vcat(seq_index, val)])\n",
    "            end\n",
    "        end\n",
    "    end \n",
    "    \n",
    "    # Remove entries that have no matches\n",
    "    for key_val in match_list_map\n",
    "        if length(key_val[2]) < 2\n",
    "            delete!(match_list_map, key_val[1])\n",
    "        end\n",
    "    end\n",
    "    return match_list_map\n",
    "end"
   ]
  },
  {
   "cell_type": "code",
   "execution_count": null,
   "metadata": {},
   "outputs": [],
   "source": []
  },
  {
   "cell_type": "code",
   "execution_count": null,
   "metadata": {},
   "outputs": [],
   "source": []
  },
  {
   "cell_type": "code",
   "execution_count": 63,
   "metadata": {},
   "outputs": [
    {
     "data": {
      "text/plain": [
       "get_nucleotide (generic function with 1 method)"
      ]
     },
     "execution_count": 63,
     "metadata": {},
     "output_type": "execute_result"
    }
   ],
   "source": [
    "# Returns forward or reverse complement nucleotide depending on the direction\n",
    "function get_nucleotide(direction::Int64, nucleotide)\n",
    "    if direction == 0\n",
    "        return nucleotide\n",
    "    else\n",
    "        return rev_map[nucleotide]\n",
    "    end\n",
    "end"
   ]
  },
  {
   "cell_type": "code",
   "execution_count": 64,
   "metadata": {},
   "outputs": [
    {
     "data": {
      "text/plain": [
       "extend_matches (generic function with 1 method)"
      ]
     },
     "execution_count": 64,
     "metadata": {},
     "output_type": "execute_result"
    }
   ],
   "source": [
    "FWD_MASK = 0x1\n",
    "BWD_MASK = 0x2\n",
    "function extend_matches(match_list_map)\n",
    "    for value in collect(values(match_list_map))\n",
    "#         println(value)\n",
    "        newValue = []\n",
    "        \n",
    "        fwd_step = 0\n",
    "        bwd_step = 0 \n",
    "        ext_dir = FWD_MASK | BWD_MASK\n",
    "        new_start = \"\"\n",
    "        new_end = \"\"\n",
    "        \n",
    "        while (ext_dir != 0)\n",
    "            for mer_ind in 1:length(value)\n",
    "                mer = value[mer_ind]\n",
    "                seq_ind = mer[1]\n",
    "                direction = mer[2]\n",
    "                start_ind = mer[3]\n",
    "                end_ind = mer[4]            \n",
    "                cur_seq = sequences[seq_ind]\n",
    "            \n",
    "                # INITIALIZE\n",
    "                if (mer_ind == 1)\n",
    "                    # Check and increment in the backward direction\n",
    "                    if (ext_dir & BWD_MASK == BWD_MASK && (start_ind - bwd_step > 1))\n",
    "                        bwd_step += 1\n",
    "                    else\n",
    "                        ext_dir &= FWD_MASK\n",
    "                    end\n",
    "                    # Check and increment in the forward direction\n",
    "                    if (ext_dir & FWD_MASK == FWD_MASK && (end_ind + fwd_step < length(cur_seq)))\n",
    "                        fwd_step += 1\n",
    "                    else\n",
    "                        ext_dir &= BWD_MASK\n",
    "                    end\n",
    "                    # Assign new_start and new_end depending on the direction\n",
    "                    new_start = get_nucleotide(direction, cur_seq[start_ind - bwd_step])\n",
    "                    new_end = get_nucleotide(direction, cur_seq[end_ind + fwd_step])\n",
    "                    \n",
    "                    # After initialization move on to the next iteration\n",
    "                    continue\n",
    "                end\n",
    "            \n",
    "                # BACK EXTEND\n",
    "                if (ext_dir & BWD_MASK == BWD_MASK)\n",
    "                    if !(start_ind - bwd_step >= 1 && \n",
    "                            get_nucleotide(direction, cur_seq[start_ind - bwd_step]) == new_start)\n",
    "                        bwd_step -= 1\n",
    "                        new_start = get_nucleotide(direction, cur_seq[start_ind - bwd_step])\n",
    "                        ext_dir &= FWD_MASK\n",
    "                    end\n",
    "                end\n",
    "\n",
    "                # FWD EXTEND\n",
    "                if (ext_dir & FWD_MASK == FWD_MASK)\n",
    "                    if !(end_ind + fwd_step <= length(cur_seq) && \n",
    "                            get_nucleotide(direction, cur_seq[end_ind + fwd_step]) == new_end)\n",
    "                        fwd_step -= 1\n",
    "                        new_end = get_nucleotide(direction, cur_seq[start_ind + fwd_step])\n",
    "                        ext_dir &= BWD_MASK\n",
    "                    end  \n",
    "                end\n",
    "            \n",
    "                # If we are not extending in either direction, break\n",
    "                if (ext_dir == 0)\n",
    "                    # println(\"Not extending in either direction\")\n",
    "                    break\n",
    "                end \n",
    "            end\n",
    "        end\n",
    "        # Make the changes\n",
    "        if fwd_step != 0 || bwd_step != 0\n",
    "#             println(\"fwd_step is: \", fwd_step)\n",
    "#             println(\"bwd_step is: \", bwd_step)\n",
    "            for mer_ind in 1:length(value)\n",
    "                value[mer_ind][3] = value[mer_ind][3] - bwd_step\n",
    "                value[mer_ind][4] = value[mer_ind][4] + fwd_step\n",
    "            end\n",
    "        end\n",
    "    end\n",
    "end"
   ]
  },
  {
   "cell_type": "code",
   "execution_count": 65,
   "metadata": {},
   "outputs": [
    {
     "data": {
      "text/plain": [
       "get_mer_map_list (generic function with 1 method)"
      ]
     },
     "execution_count": 65,
     "metadata": {},
     "output_type": "execute_result"
    }
   ],
   "source": [
    "# Returns a list of hashmaps (\"Mer\" => [Direction, Start-Position, End-Position])\n",
    "# Direction is 0 if the mer is on forward strand and 1 if the mer is on the reverse complement strand\n",
    "# Each entry is a hashmap of mers in each sequence\n",
    "# So length of the returned value = Number of sequences\n",
    "\n",
    "function get_mer_map_list(sequences::Array{String, 1}, default_seed)\n",
    "    mer_map_list = Array{Any,1}()\n",
    "    for seq in sequences\n",
    "        mer_list = []\n",
    "        mer_map = Dict{String, Array}()\n",
    "        len = length(seq) - get_seed_length(default_seed) + 1\n",
    "        for pos in 1:len\n",
    "            str = seq[pos:pos+get_seed_length(default_seed)-1]\n",
    "            fwd_mer = apply_seed_mask(str, default_seed) \n",
    "            mer = vcat(getFwdOrRevMer(fwd_mer), [pos, pos + get_seed_length(default_seed) - 1])\n",
    "            push!(mer_list, mer)\n",
    "        end  \n",
    "        mer_map = get_sorted_mer_map(mer_list)\n",
    "        push!(mer_map_list, mer_map)\n",
    "    end  \n",
    "    return mer_map_list\n",
    "end"
   ]
  },
  {
   "cell_type": "code",
   "execution_count": null,
   "metadata": {},
   "outputs": [],
   "source": []
  },
  {
   "cell_type": "code",
   "execution_count": null,
   "metadata": {},
   "outputs": [],
   "source": []
  },
  {
   "cell_type": "code",
   "execution_count": 72,
   "metadata": {},
   "outputs": [
    {
     "data": {
      "text/plain": [
       "get_pairwise_matches (generic function with 2 methods)"
      ]
     },
     "execution_count": 72,
     "metadata": {},
     "output_type": "execute_result"
    }
   ],
   "source": [
    "function get_pairwise_matches(sequences::Array{String, 1})\n",
    "    DEFAULT_SEED_RANK = 3\n",
    "    mer_size = 0\n",
    "    default_seed = get_default_seed(mer_size, DEFAULT_SEED_RANK)\n",
    "\n",
    "    # Apply default_seed to each position of each sequence to get a list of mers for each sequence\n",
    "    mer_map_list = get_mer_map_list(sequences, default_seed)\n",
    "\n",
    "    # match_list_map is a hashmap from \"mer\" => list of [seq_index, mer_direction, mer_start, mer_end]].\n",
    "    # eg. of an entry: \"atgtc\" => Array{Any,1}[[4, 0, 1, 7] \n",
    "    # Where [4, 0, 1, 7] means it's the mer of the 4th sequence, \n",
    "    # having direction 0 or forward strand, starts at positon 1 and ends at positon 7\n",
    "    match_list_map = Dict{String,Array}()\n",
    "    match_list_map = create_match_list(mer_map_list)\n",
    "\n",
    "    # Now, extend matches\n",
    "    extend_matches(match_list_map)\n",
    "\n",
    "    extended_match_list = Array{Array{Union{Nothing, Array{Int64,1}},1},1}()\n",
    "    for value in collect(values(match_list_map))\n",
    "        row_match_list = Array{Union{Nothing, Array{Int64,1}},1}()\n",
    "        for match_index in 1:length(sequences)\n",
    "            has_match_index = false\n",
    "            for mer in value\n",
    "                if match_index == mer[1]\n",
    "                    push!(row_match_list, mer[2:end])\n",
    "                    has_match_index = true\n",
    "                end\n",
    "            end\n",
    "            if !has_match_index\n",
    "                push!(row_match_list, nothing)\n",
    "            end\n",
    "        end\n",
    "        push!(extended_match_list, row_match_list)\n",
    "    end\n",
    "    return extended_match_list\n",
    "end"
   ]
  },
  {
   "cell_type": "code",
   "execution_count": 73,
   "metadata": {},
   "outputs": [
    {
     "data": {
      "text/plain": [
       "91-element Array{Array{Union{Nothing, Array{Int64,1}},1},1}:\n",
       " [nothing, nothing, nothing, [0, 1, 7], [0, 1, 7]]              \n",
       " [nothing, nothing, [0, 79, 95], [0, 64, 80], [0, 40, 56]]      \n",
       " [[1, 82, 89], nothing, nothing, [1, 85, 92], nothing]          \n",
       " [nothing, [1, 39, 45], [1, 15, 21], nothing, [1, 15, 21]]      \n",
       " [nothing, [1, 6, 12], [0, 49, 55], nothing, nothing]           \n",
       " [nothing, nothing, [1, 74, 83], [0, 41, 50], nothing]          \n",
       " [nothing, [1, 63, 70], [1, 102, 109], [1, 87, 94], [1, 80, 87]]\n",
       " [[0, 68, 77], nothing, [0, 86, 95], [0, 71, 80], [0, 47, 56]]  \n",
       " [nothing, nothing, [1, 79, 95], [1, 64, 80], [1, 40, 56]]      \n",
       " [nothing, [0, 3, 9], nothing, [1, 56, 62], nothing]            \n",
       " [nothing, [1, 14, 21], [0, 64, 71], nothing, nothing]          \n",
       " [nothing, nothing, [1, 76, 82], nothing, [1, 34, 40]]          \n",
       " [[0, 75, 83], nothing, nothing, nothing, [0, 73, 81]]          \n",
       " ⋮                                                              \n",
       " [nothing, nothing, [0, 79, 98], [0, 64, 83], nothing]          \n",
       " [nothing, [0, 44, 51], [0, 74, 81], nothing, nothing]          \n",
       " [nothing, nothing, [0, 79, 95], [0, 64, 80], [0, 40, 56]]      \n",
       " [nothing, nothing, [0, 55, 61], [0, 43, 49], nothing]          \n",
       " [[0, 12, 18], nothing, [0, 40, 46], nothing, nothing]          \n",
       " [nothing, nothing, [1, 43, 49], [1, 38, 44], nothing]          \n",
       " [[0, 28, 34], [0, 46, 52], nothing, [0, 64, 70], nothing]      \n",
       " [[0, 97, 107], nothing, nothing, [0, 113, 123], nothing]       \n",
       " [nothing, [0, 50, 59], nothing, [0, 50, 59], nothing]          \n",
       " [[1, 93, 100], [1, 72, 79], nothing, nothing, [1, 89, 96]]     \n",
       " [nothing, nothing, [0, 79, 110], [0, 64, 95], nothing]         \n",
       " [nothing, [1, 80, 86], nothing, nothing, [0, 27, 33]]          "
      ]
     },
     "execution_count": 73,
     "metadata": {},
     "output_type": "execute_result"
    }
   ],
   "source": [
    "get_pairwise_matches(sequences)"
   ]
  },
  {
   "cell_type": "code",
   "execution_count": null,
   "metadata": {},
   "outputs": [],
   "source": []
  }
 ],
 "metadata": {
  "kernelspec": {
   "display_name": "Julia 1.0.2",
   "language": "julia",
   "name": "julia-1.0"
  },
  "language_info": {
   "file_extension": ".jl",
   "mimetype": "application/julia",
   "name": "julia",
   "version": "1.0.2"
  }
 },
 "nbformat": 4,
 "nbformat_minor": 2
}
