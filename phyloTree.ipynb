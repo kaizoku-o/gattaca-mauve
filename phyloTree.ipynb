{
 "cells": [
  {
   "cell_type": "code",
   "execution_count": 1,
   "metadata": {},
   "outputs": [],
   "source": [
    "sequences = [\n",
    "    \"atcgctcacgacaagcatcagcatcagcatcatacgtgactcaagaaGAATAtcatgttaAATGGTTttactaccccctgtggggatatcgatctactactacgact\",\n",
    "    \"atctagccgatgattctaccacgatctcatactacttagcattagcatcatacgcgatcgggggatatatctctactacgtctcagacacgactccgact\",\n",
    "    \"atcggtcactacttgcatcagcaTTGCTCAATCTGtcagcatgcatacCGTCCACCATAAGAAAAGATGGtcgaggatcatcttattactacccccgcgggggatatatatcttctacgactcagctaAACATTCAAcgattacgact\",\n",
    "    \"atcgttctacgagctcatactactagcatcagcatcagcatCCCATTAgatacgcgatcagcacatcttattactacccccgccggggatatatacagcagcagcatcgactctactacgactt\",\n",
    "    \"atcggtcactactagcatcagatcaccatactcgagcatcatcttattactaccccgcgcatactacgactaccgcggtggatatatatctactaccactcagctacgactacgact\"\n",
    "];"
   ]
  },
  {
   "cell_type": "code",
   "execution_count": null,
   "metadata": {},
   "outputs": [],
   "source": []
  },
  {
   "cell_type": "code",
   "execution_count": 2,
   "metadata": {},
   "outputs": [],
   "source": [
    "# Get seed mask based on weight and palindromic seed family\n",
    "function get_seed_mask(weight::Int64)\n",
    "    no_seeds = zeros(UInt32, 0)\n",
    "    seed_mask_3 =  [\n",
    "        0x0,0xb,   \n",
    "        0x0,0x0,  0x0,0x0,  0x0,0x0,  0x0,0x0,  0x0,0x0\n",
    "    ]\n",
    "    seed_mask_4 =  [\n",
    "        0x0,0x3b,  \n",
    "        0x0,0x0,  0x0,0x0,  0x0,0x0,  0x0,0x0,  0x0,0x0\n",
    "    ]\n",
    "    seed_mask_5 =  [\n",
    "        0x0,0x6b,  \n",
    "        0x0,0x139,    \n",
    "        0x0,0x193,\n",
    "        0x0,0x6b, \n",
    "        0x0,0x0,  0x0,0x0\n",
    "    ]\n",
    "    seed_mask_6 =  [\n",
    "        0x0,0x58D, #0b10110001101,\n",
    "        0x0,0x653, #0b11001010011,\n",
    "        0x0,0x1AB, #0b110101011,\n",
    "        0x0,0xdb,  #0b11011011,\n",
    "        0x0,0x0,  0x0,0x0\n",
    "    ]\n",
    "    seed_mask_7 =  [\n",
    "        0x0,0x1953, #0b1100101010011\n",
    "        0x0,0x588d, #0b101100010001101\n",
    "        0x0,0x688b, #0b110100010001011\n",
    "        0x0,0x17d,  #0b101111101,\n",
    "        0x0,0x164d, #0b1011001001101,\n",
    "        0x0,0x0,  0x0,0x0\n",
    "    ]   \n",
    "    seed_mask_8 =  [\n",
    "        0x0,0x3927, #0b11100100100111,\n",
    "        0x0,0x1CA7, #0b1110010100111,\n",
    "        0x0,0x6553, #0b110010101010011,\n",
    "        0x0,0xb6d,  #0b101101101101,\n",
    "        0x0,0x0,  0x0,0x0\n",
    "    ]\n",
    "    seed_mask_9 =  [\n",
    "        0x0,0x7497,  #0b111010010010111,\n",
    "        0x0,0x1c927, #0b11100100100100111,\n",
    "        0x0,0x72a7,  #0b111001010100111,\n",
    "        0x0,0x6fb,   #0b11011111011,\n",
    "        0x0,0x16ed,  #0b1011011101101,\n",
    "        0x0,0x0\n",
    "    ]\n",
    "    seed_mask_10 = [\n",
    "        0x0,0x1d297, #0b11101001010010111,\n",
    "        0x0,0x3A497, #0b111010010010010111,\n",
    "        0x0,0xE997,  #0b1110100110010111,\n",
    "        0x0,0x6D5B,  #0b110110101011011,\n",
    "        0x0,0x0,  0x0,0x0\n",
    "    ]\n",
    "    seed_mask_11 = [\n",
    "        0x0,0x7954f,  #0b11110010101001111,\n",
    "        0x0,0x75257,  #0b1110101001001010111,\n",
    "        0x0,0x1c9527, #0b111001001010100100111,\n",
    "        0x0,0x5bed,   #0b101101111101101,\n",
    "        0x0,0x5b26d,  #0b1011011001001101101,\n",
    "        0x0,0x0\n",
    "    ]\n",
    "    seed_mask_12 = [\n",
    "        0x0,0x7954f,  #0b1111001010101001111,\n",
    "        0x0,0x3D32F,  #0b111101001100101111,\n",
    "        0x0,0x768B7,  #0b1110110100010110111,\n",
    "        0x0,0x5B56D,  #0b1011011010101101101,\n",
    "        0x0,0x0,  0x0,0x0\n",
    "    ]\n",
    "    seed_mask_13 = [\n",
    "        0x0,0x792a4f, #0b11110010010101001001111,\n",
    "        0x0,0x1d64d7, #0b111010110010011010111,\n",
    "        0x0,0x1d3597, #0b111010011010110010111,\n",
    "        0x0,0x1b7db,  #0b11011011111011011,\n",
    "        0x0,0x75ad7,  #0b1110101101011010111,\n",
    "        0x0,0x0\n",
    "    ]\n",
    "    seed_mask_14 = [\n",
    "        0x0,0x1e6acf, #0b111100110101011001111,\n",
    "        0x0,0xF59AF,  #0b11110101100110101111,\n",
    "        0x0,0x3D4CAF, #0b1111010100110010101111,\n",
    "        0x0,0x35AD6B, #0b1101011010110101101011,\n",
    "        0x0,0x0,  0x0,0x0        \n",
    "    ]\n",
    "    seed_mask_15 = [\n",
    "        0x0,0x7ac9af, #0b11110101100100110101111\n",
    "        0x0,0x7b2a6f, #0b11110110010101001101111\n",
    "        0x0,0x79aacf, #0b11110011010101011001111\n",
    "        0x0,0x16df6d, #0b101101101111101101101\n",
    "        0x0,0x6b5d6b, #0b11010110101110101101011\n",
    "        0x0,0x0\n",
    "    ]\n",
    "    seed_mask_16 = [\n",
    "        0x0,0xf599af, #0b111101011001100110101111,\n",
    "        0x0,0xEE5A77, #0b111011100101101001110111,\n",
    "        0x0,0x7CD59F, #0b11111001101010110011111,\n",
    "        0x0,0xEB5AD7, #0b111010110101101011010111,\n",
    "        0x0,0x0,  0x0,0x0\n",
    "    ]\n",
    "    seed_mask_17 = [\n",
    "        0x0,0x6dbedb, #0b11011011011111011011011,\n",
    "        0x0,0x0, 0x0,0x0,  0x0,0x0,  0x0,0x0,  0x0,0x0       \n",
    "    ]\n",
    "    seed_mask_18 = [\n",
    "        0x0,0x3E6B59F, #0b11111001101011010110011111,\n",
    "        0x0,0x3EB335F, #0b11111010110011001101011111,\n",
    "        0x0,0x7B3566F, #0b111101100110101011001101111,\n",
    "        0x0,0x0,  0x0,0x0,  0x0,0x0\n",
    "    ]\n",
    "    seed_mask_19 = [\n",
    "        0x0,0x7b974ef, #0b111101110010111010011101111\n",
    "        0x0,0x7d6735f, #0b111110101100111001101011111\n",
    "        0x0,0x1edd74f, #0b1111011011101011101101111\n",
    "        0x0,0x0,  0x0,0x0,  0x0,0x0\n",
    "    ]\n",
    "    seed_mask_20 = [\n",
    "        0x0,0x1F59B35F,#0b11111010110011011001101011111,\n",
    "        0x0,0x3EDCEDF, #0b11111011011100111011011111,\n",
    "        0x0,0xFAE675F, #0b1111101011100110011101011111,\n",
    "        0x0,0x0,  0x0,0x0,  0x0,0x0\n",
    "    ]\n",
    "    seed_mask_21 = [\n",
    "        0x0,0x7ddaddf, #0b111110111011010110111011111,\n",
    "        0x0,0xaeb3f,   #0b11111100110101110101100111111,\n",
    "        0x0,0x7eb76bf, #0b111111010110111011010111111,\n",
    "        0x0,0x0,  0x0,0x0,  0x0,0x0\n",
    "    ]\n",
    "    seed_mask_22 = [0x0,0x003fffff,  0x0,0x0,  0x0,0x0,  0x0,0x0,  0x0,0x0,  0x0,0x0]\n",
    "    seed_mask_23 = [0x0,0x007fffff,  0x0,0x0,  0x0,0x0,  0x0,0x0,  0x0,0x0,  0x0,0x0]\n",
    "    seed_mask_24 = [0x0,0x00ffffff,  0x0,0x0,  0x0,0x0,  0x0,0x0,  0x0,0x0,  0x0,0x0]\n",
    "    seed_mask_25 = [0x0,0x01ffffff,  0x0,0x0,  0x0,0x0,  0x0,0x0,  0x0,0x0,  0x0,0x0]\n",
    "    seed_mask_26 = [0x0,0x03ffffff,  0x0,0x0,  0x0,0x0,  0x0,0x0,  0x0,0x0,  0x0,0x0]\n",
    "    seed_mask_27 = [0x0,0x07ffffff,  0x0,0x0,  0x0,0x0,  0x0,0x0,  0x0,0x0,  0x0,0x0]\n",
    "    seed_mask_28 = [0x0,0x0fffffff,  0x0,0x0,  0x0,0x0,  0x0,0x0,  0x0,0x0,  0x0,0x0]\n",
    "    seed_mask_29 = [0x0,0x1fffffff,  0x0,0x0,  0x0,0x0,  0x0,0x0,  0x0,0x0,  0x0,0x0]\n",
    "    seed_mask_30 = [0x0,0x3fffffff,  0x0,0x0,  0x0,0x0,  0x0,0x0,  0x0,0x0,  0x0,0x0]\n",
    "    seed_mask_31 = [0x0,0x7fffffff,  0x0,0x0,  0x0,0x0,  0x0,0x0,  0x0,0x0,  0x0,0x0]\n",
    "    \n",
    "    seed_mask = [\n",
    "        no_seeds,\n",
    "        no_seeds,\n",
    "        no_seeds,\n",
    "        seed_mask_3,\n",
    "        seed_mask_4,\n",
    "        seed_mask_5,\n",
    "        seed_mask_6,\n",
    "        seed_mask_7,\n",
    "        seed_mask_8,\n",
    "        seed_mask_9,\n",
    "        seed_mask_10,\n",
    "        seed_mask_11,\n",
    "        seed_mask_12,\n",
    "        seed_mask_13,\n",
    "        seed_mask_14,\n",
    "        seed_mask_15,\n",
    "        seed_mask_16,\n",
    "        seed_mask_17,\n",
    "        seed_mask_18,\n",
    "        seed_mask_19,\n",
    "        seed_mask_20,\n",
    "        seed_mask_21,\n",
    "        seed_mask_22,\n",
    "        seed_mask_23,\n",
    "        seed_mask_24,\n",
    "        seed_mask_25,\n",
    "        seed_mask_26,\n",
    "        seed_mask_27,\n",
    "        seed_mask_28,\n",
    "        seed_mask_29,\n",
    "        seed_mask_30,\n",
    "        seed_mask_31,\n",
    "    ]\n",
    "    return seed_mask[weight]\n",
    "end;"
   ]
  },
  {
   "cell_type": "code",
   "execution_count": 3,
   "metadata": {},
   "outputs": [],
   "source": [
    "# All Ones\n",
    "function get_solid_seed(weight::Int64)\n",
    "    seed = 1\n",
    "    seed <<= weight\n",
    "    return seed\n",
    "end;"
   ]
  },
  {
   "cell_type": "code",
   "execution_count": 4,
   "metadata": {},
   "outputs": [
    {
     "data": {
      "text/plain": [
       "get_seed (generic function with 1 method)"
      ]
     },
     "execution_count": 4,
     "metadata": {},
     "output_type": "execute_result"
    }
   ],
   "source": [
    "function get_seed(weight::Int64, seed_rank::Int64)\n",
    "    mask = get_seed_mask(weight + 1)\n",
    "    low = mask[seed_rank*2 + 2]\n",
    "    if (low == 0)\n",
    "        return get_solid_seed(weight)\n",
    "    end\n",
    "    high = mask[weight*2 + 1]\n",
    "    seed = 0\n",
    "    seed |= high\n",
    "    seed <<=32\n",
    "    seed |= low\n",
    "    return seed\n",
    "end"
   ]
  },
  {
   "cell_type": "code",
   "execution_count": 5,
   "metadata": {},
   "outputs": [
    {
     "data": {
      "text/plain": [
       "get_default_mer_size (generic function with 1 method)"
      ]
     },
     "execution_count": 5,
     "metadata": {},
     "output_type": "execute_result"
    }
   ],
   "source": [
    "# From the paper and code, mer_size is calculated by lg_2(totalLen/num_seq)/1.5\n",
    "# If mer_size is even, increment by 1\n",
    "# mer_size is bounded by [5, 31]\n",
    "\n",
    "function get_default_mer_size(total_len::Int64, num_seq::Int64)\n",
    "    mer_size = round(Int64, (log2(round(Int64, total_len/num_seq)))/1.5)\n",
    "    if iseven(mer_size)\n",
    "        mer_size += 1\n",
    "    end\n",
    "    if mer_size < 5\n",
    "        mer_size = 5\n",
    "    end\n",
    "    if mer_size > 31\n",
    "        mer_size = 31\n",
    "    end\n",
    "    return mer_size\n",
    "end"
   ]
  },
  {
   "cell_type": "code",
   "execution_count": 6,
   "metadata": {},
   "outputs": [],
   "source": [
    "function get_default_seed(mer_size, coding_seed)\n",
    "    totalLen = sum(length.(sequences))\n",
    "    numSeq = length(sequences)\n",
    "    if mer_size == 0\n",
    "        mer_size = get_default_mer_size(totalLen, numSeq)\n",
    "    end\n",
    "    default_seed = get_seed(mer_size, coding_seed)\n",
    "end;"
   ]
  },
  {
   "cell_type": "code",
   "execution_count": null,
   "metadata": {},
   "outputs": [],
   "source": []
  },
  {
   "cell_type": "code",
   "execution_count": 7,
   "metadata": {},
   "outputs": [
    {
     "data": {
      "text/plain": [
       "get_seed_length (generic function with 1 method)"
      ]
     },
     "execution_count": 7,
     "metadata": {},
     "output_type": "execute_result"
    }
   ],
   "source": [
    "\n",
    "function get_seed_length(seed::Int64)\n",
    "    leftIndex = 64 - leading_zeros(seed)\n",
    "    rightIndex = trailing_zeros(seed)\n",
    "    seedLength = leftIndex - rightIndex\n",
    "end"
   ]
  },
  {
   "cell_type": "code",
   "execution_count": 8,
   "metadata": {},
   "outputs": [
    {
     "data": {
      "text/plain": [
       "apply_seed_mask (generic function with 1 method)"
      ]
     },
     "execution_count": 8,
     "metadata": {},
     "output_type": "execute_result"
    }
   ],
   "source": [
    "function apply_seed_mask(str::String, default_seed::Int64)\n",
    "    bin_seed_mask = digits(default_seed, base=2)\n",
    "    mer = \"\"\n",
    "    for i in 1:get_seed_length(default_seed)\n",
    "        if bin_seed_mask[i] == 1\n",
    "            mer = mer*str[i]\n",
    "        end\n",
    "    end\n",
    "    return mer\n",
    "end"
   ]
  },
  {
   "cell_type": "code",
   "execution_count": null,
   "metadata": {},
   "outputs": [],
   "source": []
  },
  {
   "cell_type": "code",
   "execution_count": 9,
   "metadata": {},
   "outputs": [],
   "source": [
    "rev_map = Dict('A' => 'T', 'T' => 'A', 'C' => 'G', 'G' => 'C', 'a' => 't', 't' => 'a', 'c' => 'g', 'g' => 'c');"
   ]
  },
  {
   "cell_type": "code",
   "execution_count": 10,
   "metadata": {},
   "outputs": [
    {
     "data": {
      "text/plain": [
       "getFwdOrRevMer (generic function with 1 method)"
      ]
     },
     "execution_count": 10,
     "metadata": {},
     "output_type": "execute_result"
    }
   ],
   "source": [
    "#  Gets lexicographically smaller among the forward and reverse mers\n",
    "function getFwdOrRevMer(fwd_mer::String)\n",
    "    rev_mer = String(\"\")\n",
    "    for nucleotide in fwd_mer\n",
    "        rev_mer = rev_mer*rev_map[nucleotide]\n",
    "    end\n",
    "    if isless(fwd_mer, rev_mer)\n",
    "        return [fwd_mer, 0]\n",
    "    end\n",
    "    return [rev_mer, 1]\n",
    "end"
   ]
  },
  {
   "cell_type": "code",
   "execution_count": 11,
   "metadata": {},
   "outputs": [
    {
     "data": {
      "text/plain": [
       "get_sorted_mer_map (generic function with 1 method)"
      ]
     },
     "execution_count": 11,
     "metadata": {},
     "output_type": "execute_result"
    }
   ],
   "source": [
    "# Returns sorted and unique mer_list for a sequence\n",
    "function get_sorted_mer_map(mer_list)\n",
    "    # Sort the mer_list lexicographically\n",
    "    sort!(mer_list, by=x->x[1]);\n",
    "    mer_map = Dict{String, Array}()\n",
    "    for val in mer_list\n",
    "        lc_val = lowercase(val[1])  \n",
    "        if haskey(mer_map, lc_val)\n",
    "            push!(mer_map[lc_val], val[2:end])\n",
    "        else\n",
    "            push!(mer_map, lc_val=>[val[2:end]])\n",
    "        end            \n",
    "    end\n",
    "    # Remove repeats\n",
    "    for val in mer_map\n",
    "        if (length(mer_map[val[1]])) >= 2\n",
    "            delete!(mer_map, val[1])\n",
    "        end\n",
    "    end\n",
    "    return mer_map\n",
    "end"
   ]
  },
  {
   "cell_type": "code",
   "execution_count": 12,
   "metadata": {},
   "outputs": [
    {
     "data": {
      "text/plain": [
       "create_match_list (generic function with 1 method)"
      ]
     },
     "execution_count": 12,
     "metadata": {},
     "output_type": "execute_result"
    }
   ],
   "source": [
    "# Returns a hashmap from \"mer\" => list of [seq_index, mer_direction, mer_start, mer_end]].\n",
    "# eg. of an entry: \"atgtc\" => Array{Any,1}[[4, 0, 1, 7] \n",
    "# Where [4, 0, 1, 7] means it's the mer of the 4th sequence, \n",
    "# having direction 0 or forward strand, starts at positon 1 and ends at positon 7\n",
    "# Hashmap is used to keep track of number of matches.\n",
    "\n",
    "function create_match_list(mer_map_list)\n",
    "    match_list_map = Dict{String, Array}()\n",
    "    for seq_index in 1:length(mer_map_list)\n",
    "        mer_map = mer_map_list[seq_index]\n",
    "        for key_val in mer_map\n",
    "            key = key_val[1]\n",
    "            val = key_val[2][1]\n",
    "            if haskey(match_list_map, key)\n",
    "                push!(match_list_map[key], vcat(seq_index, val))\n",
    "            else\n",
    "                push!(match_list_map, key=>[vcat(seq_index, val)])\n",
    "            end\n",
    "        end\n",
    "    end \n",
    "    \n",
    "    # Remove entries that have no matches\n",
    "    for key_val in match_list_map\n",
    "        if length(key_val[2]) < 2\n",
    "            delete!(match_list_map, key_val[1])\n",
    "        end\n",
    "    end\n",
    "    return match_list_map\n",
    "end"
   ]
  },
  {
   "cell_type": "code",
   "execution_count": null,
   "metadata": {},
   "outputs": [],
   "source": []
  },
  {
   "cell_type": "code",
   "execution_count": null,
   "metadata": {},
   "outputs": [],
   "source": []
  },
  {
   "cell_type": "code",
   "execution_count": 13,
   "metadata": {},
   "outputs": [
    {
     "data": {
      "text/plain": [
       "get_nucleotide (generic function with 1 method)"
      ]
     },
     "execution_count": 13,
     "metadata": {},
     "output_type": "execute_result"
    }
   ],
   "source": [
    "# Returns forward or reverse complement nucleotide depending on the direction\n",
    "function get_nucleotide(direction::Int64, nucleotide)\n",
    "    if direction == 0\n",
    "        return nucleotide\n",
    "    else\n",
    "        return rev_map[nucleotide]\n",
    "    end\n",
    "end"
   ]
  },
  {
   "cell_type": "code",
   "execution_count": 14,
   "metadata": {},
   "outputs": [
    {
     "data": {
      "text/plain": [
       "extend_matches (generic function with 1 method)"
      ]
     },
     "execution_count": 14,
     "metadata": {},
     "output_type": "execute_result"
    }
   ],
   "source": [
    "FWD_MASK = 0x1\n",
    "BWD_MASK = 0x2\n",
    "function extend_matches(match_list_map)\n",
    "    for value in collect(values(match_list_map))\n",
    "#         println(value)\n",
    "        newValue = []\n",
    "        \n",
    "        fwd_step = 0\n",
    "        bwd_step = 0 \n",
    "        ext_dir = FWD_MASK | BWD_MASK\n",
    "        new_start = \"\"\n",
    "        new_end = \"\"\n",
    "        \n",
    "        while (ext_dir != 0)\n",
    "            for mer_ind in 1:length(value)\n",
    "                mer = value[mer_ind]\n",
    "                seq_ind = mer[1]\n",
    "                direction = mer[2]\n",
    "                start_ind = mer[3]\n",
    "                end_ind = mer[4]            \n",
    "                cur_seq = sequences[seq_ind]\n",
    "            \n",
    "                # INITIALIZE\n",
    "                if (mer_ind == 1)\n",
    "                    # Check and increment in the backward direction\n",
    "                    if (ext_dir & BWD_MASK == BWD_MASK && (start_ind - bwd_step > 1))\n",
    "                        bwd_step += 1\n",
    "                    else\n",
    "                        ext_dir &= FWD_MASK\n",
    "                    end\n",
    "                    # Check and increment in the forward direction\n",
    "                    if (ext_dir & FWD_MASK == FWD_MASK && (end_ind + fwd_step < length(cur_seq)))\n",
    "                        fwd_step += 1\n",
    "                    else\n",
    "                        ext_dir &= BWD_MASK\n",
    "                    end\n",
    "                    # Assign new_start and new_end depending on the direction\n",
    "                    new_start = get_nucleotide(direction, cur_seq[start_ind - bwd_step])\n",
    "                    new_end = get_nucleotide(direction, cur_seq[end_ind + fwd_step])\n",
    "                    \n",
    "                    # After initialization move on to the next iteration\n",
    "                    continue\n",
    "                end\n",
    "            \n",
    "                # BACK EXTEND\n",
    "                if (ext_dir & BWD_MASK == BWD_MASK)\n",
    "                    if !(start_ind - bwd_step >= 1 && \n",
    "                            get_nucleotide(direction, cur_seq[start_ind - bwd_step]) == new_start)\n",
    "                        bwd_step -= 1\n",
    "                        new_start = get_nucleotide(direction, cur_seq[start_ind - bwd_step])\n",
    "                        ext_dir &= FWD_MASK\n",
    "                    end\n",
    "                end\n",
    "\n",
    "                # FWD EXTEND\n",
    "                if (ext_dir & FWD_MASK == FWD_MASK)\n",
    "                    if !(end_ind + fwd_step <= length(cur_seq) && \n",
    "                            get_nucleotide(direction, cur_seq[end_ind + fwd_step]) == new_end)\n",
    "                        fwd_step -= 1\n",
    "                        new_end = get_nucleotide(direction, cur_seq[start_ind + fwd_step])\n",
    "                        ext_dir &= BWD_MASK\n",
    "                    end  \n",
    "                end\n",
    "            \n",
    "                # If we are not extending in either direction, break\n",
    "                if (ext_dir == 0)\n",
    "                    # println(\"Not extending in either direction\")\n",
    "                    break\n",
    "                end \n",
    "            end\n",
    "        end\n",
    "        # Make the changes\n",
    "        if fwd_step != 0 || bwd_step != 0\n",
    "#             println(\"fwd_step is: \", fwd_step)\n",
    "#             println(\"bwd_step is: \", bwd_step)\n",
    "            for mer_ind in 1:length(value)\n",
    "                value[mer_ind][3] = value[mer_ind][3] - bwd_step\n",
    "                value[mer_ind][4] = value[mer_ind][4] + fwd_step\n",
    "            end\n",
    "        end\n",
    "    end\n",
    "end"
   ]
  },
  {
   "cell_type": "code",
   "execution_count": 15,
   "metadata": {},
   "outputs": [
    {
     "data": {
      "text/plain": [
       "get_mer_map_list (generic function with 1 method)"
      ]
     },
     "execution_count": 15,
     "metadata": {},
     "output_type": "execute_result"
    }
   ],
   "source": [
    "# Returns a list of hashmaps (\"Mer\" => [Direction, Start-Position, End-Position])\n",
    "# Direction is 0 if the mer is on forward strand and 1 if the mer is on the reverse complement strand\n",
    "# Each entry is a hashmap of mers in each sequence\n",
    "# So length of the returned value = Number of sequences\n",
    "\n",
    "function get_mer_map_list(sequences::Array{String, 1}, default_seed)\n",
    "    mer_map_list = Array{Any,1}()\n",
    "    for seq in sequences\n",
    "        mer_list = []\n",
    "        mer_map = Dict{String, Array}()\n",
    "        len = length(seq) - get_seed_length(default_seed) + 1\n",
    "        for pos in 1:len\n",
    "            str = seq[pos:pos+get_seed_length(default_seed)-1]\n",
    "            fwd_mer = apply_seed_mask(str, default_seed) \n",
    "            mer = vcat(getFwdOrRevMer(fwd_mer), [pos, pos + get_seed_length(default_seed) - 1])\n",
    "            push!(mer_list, mer)\n",
    "        end  \n",
    "        mer_map = get_sorted_mer_map(mer_list)\n",
    "        push!(mer_map_list, mer_map)\n",
    "    end  \n",
    "    return mer_map_list\n",
    "end"
   ]
  },
  {
   "cell_type": "code",
   "execution_count": null,
   "metadata": {},
   "outputs": [],
   "source": []
  },
  {
   "cell_type": "code",
   "execution_count": null,
   "metadata": {},
   "outputs": [],
   "source": []
  },
  {
   "cell_type": "code",
   "execution_count": 16,
   "metadata": {},
   "outputs": [
    {
     "data": {
      "text/plain": [
       "get_pairwise_matches (generic function with 1 method)"
      ]
     },
     "execution_count": 16,
     "metadata": {},
     "output_type": "execute_result"
    }
   ],
   "source": [
    "function get_pairwise_matches(sequences::Array{String, 1})\n",
    "    DEFAULT_SEED_RANK = 3\n",
    "    mer_size = 0\n",
    "    default_seed = get_default_seed(mer_size, DEFAULT_SEED_RANK)\n",
    "\n",
    "    # Apply default_seed to each position of each sequence to get a list of mers for each sequence\n",
    "    mer_map_list = get_mer_map_list(sequences, default_seed)\n",
    "\n",
    "    # match_list_map is a hashmap from \"mer\" => list of [seq_index, mer_direction, mer_start, mer_end]].\n",
    "    # eg. of an entry: \"atgtc\" => Array{Any,1}[[4, 0, 1, 7] \n",
    "    # Where [4, 0, 1, 7] means it's the mer of the 4th sequence, \n",
    "    # having direction 0 or forward strand, starts at positon 1 and ends at positon 7\n",
    "    match_list_map = Dict{String,Array}()\n",
    "    match_list_map = create_match_list(mer_map_list)\n",
    "\n",
    "    # Now, extend matches\n",
    "    extend_matches(match_list_map)\n",
    "\n",
    "    extended_match_list = Array{Array{Union{Nothing, Array{Int64,1}},1},1}()\n",
    "    for value in collect(values(match_list_map))\n",
    "        row_match_list = Array{Union{Nothing, Array{Int64,1}},1}()\n",
    "        for match_index in 1:length(sequences)\n",
    "            has_match_index = false\n",
    "            for mer in value\n",
    "                if match_index == mer[1]\n",
    "                    push!(row_match_list, mer[2:end])\n",
    "                    has_match_index = true\n",
    "                end\n",
    "            end\n",
    "            if !has_match_index\n",
    "                push!(row_match_list, nothing)\n",
    "            end\n",
    "        end\n",
    "        push!(extended_match_list, row_match_list)\n",
    "    end\n",
    "    return extended_match_list\n",
    "end"
   ]
  },
  {
   "cell_type": "code",
   "execution_count": 17,
   "metadata": {},
   "outputs": [],
   "source": [
    "pairwise_matches = get_pairwise_matches(sequences);"
   ]
  },
  {
   "cell_type": "code",
   "execution_count": null,
   "metadata": {},
   "outputs": [],
   "source": []
  },
  {
   "cell_type": "code",
   "execution_count": 180,
   "metadata": {},
   "outputs": [
    {
     "data": {
      "text/plain": [
       "findDistances (generic function with 1 method)"
      ]
     },
     "execution_count": 180,
     "metadata": {},
     "output_type": "execute_result"
    }
   ],
   "source": [
    "# Sorts matches to be longest to shortest\n",
    "function sortMatches(matchA::Array{Union{Nothing, Array{Int64,1}},1}, \n",
    "        matchB::Array{Union{Nothing, Array{Int64,1}},1}) \n",
    "    firstA = findfirst(i->i!=nothing, matchA)\n",
    "    firstB = findfirst(i->i!=nothing, matchB)\n",
    "    lenA = matchA[firstA][3] - matchA[firstA][2]\n",
    "    lenB = matchB[firstB][3] - matchB[firstB][2]\n",
    "    return(lenA < lenB)\n",
    "end\n",
    "\n",
    "# Returns matches that exist in both pairwise sequences\n",
    "function keepMatches(i::Int64, j::Int64, matches::Array{Array{Union{Nothing, Array{Int64,1}},1},1}) \n",
    "    cur_matches = Array{Union{Nothing, Array{Int64,1}},1}[]\n",
    "    for match in matches\n",
    "        if match[i]!=nothing && match[j]!=nothing\n",
    "            push!(cur_matches, [deepcopy(match[i]), deepcopy(match[j])])\n",
    "        end\n",
    "    end\n",
    "    return(cur_matches)\n",
    "end\n",
    "\n",
    "\n",
    "function trimMatches(a::Array{Union{Nothing, Array{Int64,1}},1}, \n",
    "        b::Array{Union{Nothing, Array{Int64,1}},1}) \n",
    "    #print(\"type: \", a, \"\\n\")\n",
    "    # Checking if the second match overlapped with the first match in either sequence\n",
    "    while ( b[1][2] <= a[1][3] && b[1][2] >= a[1][2] ) || ( b[2][2] <= a[1][3] && b[2][2] >= a[1][3] )\n",
    "        # move the start position up until it no longer overlaps with the other match\n",
    "        b[1][2] += 1\n",
    "        b[2][2] += 1\n",
    "    end\n",
    "    \n",
    "    while ( b[1][3] <= a[1][3] && b[1][3] >= a[1][2] ) || ( b[2][3] <= a[1][3] && b[2][3] >= a[1][3] )\n",
    "        # move the end position down until it no longer overlaps with the other match\n",
    "        b[1][3] -= 1\n",
    "        b[2][3] -= 1\n",
    "    end\n",
    "    \n",
    "    if b[1][3] - b[1][2] <= 0 # a match has been completely removed\n",
    "        b[1] = nothing\n",
    "        b[2] = nothing\n",
    "    end\n",
    "end\n",
    "\n",
    "\n",
    "# Calculates coverage -- can be weighted on which nucleotide has been substituted\n",
    "function ntWeight(g1::String, g2::String, matches::Array{Array{Union{Nothing, Array{Int64,1}},1},1})\n",
    "    coverageA = 0\n",
    "    coverageB = 0\n",
    "    \n",
    "    strong = 1.1\n",
    "    weak = 1.2\n",
    "    purine_transition = .2\n",
    "    pyrimidine_transition = .2\n",
    "    transversion = .9\n",
    "    \n",
    "    for m in 1:length(matches)\n",
    "        if matches[m][1] != nothing\n",
    "            ntSeq2 = matches[m][2][2] # starting point nucleotide in the second sequence\n",
    "            for ntSeq1 in matches[m][1][2]:matches[m][1][3] # starting point nucleotide in the first sequence\n",
    "                if (g1[ntSeq1]=='a' && g2[ntSeq2]=='a') || (g1[ntSeq1]=='t' && g2[ntSeq2]=='t') # strong\n",
    "                    coverageA += strong\n",
    "                    coverageB += strong\n",
    "                elseif (g1[ntSeq1]=='g' && g2[ntSeq2]=='g') || (g1[ntSeq1]=='c' && g2[ntSeq2]==\"c\") # weak\n",
    "                    coverageA += weak\n",
    "                    coverageB += weak\n",
    "                elseif (g1[ntSeq1]=='a' && g2[ntSeq2]=='g') || (g1[ntSeq1]=='g' && g2[ntSeq2]=='a') # purine\n",
    "                    coverageA += purine_transition\n",
    "                    coverageB += purine_transition\n",
    "                elseif (g1[ntSeq1]=='c' && g2[ntSeq2]=='t') || (g1[ntSeq1]=='t' && g2[ntSeq2]=='c') #pyrimidine\n",
    "                    coverageA += pyrimidine_transition\n",
    "                    coverageB += pyrimidine_transition\n",
    "                else # transversion substitution\n",
    "                    coverageA += transversion\n",
    "                    coverageB += transversion\n",
    "                end                \n",
    "                ntSeq2 += 1                \n",
    "            end\n",
    "        end\n",
    "    end    \n",
    "    return coverageA, coverageB\n",
    "    \n",
    "end\n",
    "\n",
    "\n",
    "########## Begin Processing Matches to Find Edit Distances ##########\n",
    "\n",
    "function findDistances(sequences, matches)    \n",
    "    # Make sure that the incoming sequences are all lowercase\n",
    "    seqnum=1\n",
    "    for seq in sequences\n",
    "        sequences[seqnum] = lowercase(seq)\n",
    "        seqnum += 1\n",
    "    end    \n",
    "    #initialize output matrix\n",
    "    edit_distance_matrix = zeros(Float64, (length(sequences), length(sequences))) \n",
    "\n",
    "    # Step 1) Sort the matches by descending length \n",
    "    sort!(matches, lt=sortMatches, rev=true)\n",
    "\n",
    "    # Pairwise Comparison\n",
    "    for i in 1:length(sequences)                \n",
    "        for j in (i+1):length(sequences)\n",
    "            # Step 2) Subset the matches array to only contain matches that exist \n",
    "            #         for the current pair of sequences being compared\n",
    "            cur_matches = keepMatches(i,j,matches)\n",
    "            \n",
    "            for k in 1:length(cur_matches)\n",
    "                # for the case that an entire match was trimmed away in a previous round\n",
    "                if cur_matches[k][1] == nothing \n",
    "                    continue\n",
    "                end\n",
    "                for l in (k+1):length(cur_matches)\n",
    "                    if cur_matches[l][1] == nothing # for the case that an entire match was trimmed away\n",
    "                        continue\n",
    "                    end\n",
    "                    # Step 3) Trim overlapping matches in each sequence\n",
    "                    trimMatches(cur_matches[k], cur_matches[l])\n",
    "                end\n",
    "            end\n",
    "\n",
    "            # Step 4) Calculate the coverage:\n",
    "            #         Coverage within a match can be weighted based on the type of match/substitiution\n",
    "            #         Nucleotides not in a match are counted as dissimilar.\n",
    "            coverage = ntWeight(sequences[i], sequences[j], cur_matches)\n",
    "            coverageA = coverage[1]\n",
    "            coverageB = coverage[2]\n",
    "\n",
    "            percentA = coverageA / length(sequences[i])\n",
    "            percentB = coverageB / length(sequences[j])\n",
    "            percentAB = (percentA + percentB) / 2   # average the coverage\n",
    "            editPercent = 1 - percentAB \n",
    "            \n",
    "            # Step 5) Set the edit distance for the pairwise genomes\n",
    "            edit_distance_matrix[i, j] = editPercent\n",
    "\n",
    "            # Step 6) Repeat until all pairs have a distance calculated for them\n",
    "        end\n",
    "    end\n",
    "    return edit_distance_matrix\n",
    "end"
   ]
  },
  {
   "cell_type": "code",
   "execution_count": 181,
   "metadata": {},
   "outputs": [],
   "source": [
    "distanceMatrix = findDistances(sequences, pairwise_matches);"
   ]
  },
  {
   "cell_type": "code",
   "execution_count": 182,
   "metadata": {},
   "outputs": [
    {
     "data": {
      "text/plain": [
       "5×5 Array{Float64,2}:\n",
       " 0.0  0.248416  0.449293  0.263544  0.337072\n",
       " 0.0  0.0       0.316324  0.232258  0.205261\n",
       " 0.0  0.0       0.0       0.228553  0.278427\n",
       " 0.0  0.0       0.0       0.0       0.333047\n",
       " 0.0  0.0       0.0       0.0       0.0     "
      ]
     },
     "execution_count": 182,
     "metadata": {},
     "output_type": "execute_result"
    }
   ],
   "source": [
    "distanceMatrix"
   ]
  },
  {
   "cell_type": "code",
   "execution_count": null,
   "metadata": {},
   "outputs": [],
   "source": []
  }
 ],
 "metadata": {
  "kernelspec": {
   "display_name": "Julia 1.0.0",
   "language": "julia",
   "name": "julia-1.0"
  },
  "language_info": {
   "file_extension": ".jl",
   "mimetype": "application/julia",
   "name": "julia",
   "version": "1.0.0"
  }
 },
 "nbformat": 4,
 "nbformat_minor": 2
}
